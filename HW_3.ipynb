{
  "nbformat": 4,
  "nbformat_minor": 0,
  "metadata": {
    "colab": {
      "name": "HW_3.ipynb",
      "provenance": [],
      "collapsed_sections": [],
      "authorship_tag": "ABX9TyM2aatnN5ECyhUbD3h7QyIx",
      "include_colab_link": true
    },
    "kernelspec": {
      "name": "python3",
      "display_name": "Python 3"
    },
    "language_info": {
      "name": "python"
    }
  },
  "cells": [
    {
      "cell_type": "markdown",
      "metadata": {
        "id": "view-in-github",
        "colab_type": "text"
      },
      "source": [
        "<a href=\"https://colab.research.google.com/github/OlgaNezh/PyTorch/blob/main/HW_3.ipynb\" target=\"_parent\"><img src=\"https://colab.research.google.com/assets/colab-badge.svg\" alt=\"Open In Colab\"/></a>"
      ]
    },
    {
      "cell_type": "markdown",
      "source": [
        "# Домашнее задание\n",
        "\n",
        "Будем практиковаться на датасете недвижимости (sklearn.datasets.fetch_california_housing)\n",
        "\n",
        "Ваша задача:\n",
        "1. Создать Dataset для загрузки данных\n",
        "2. Обернуть его в Dataloader\n",
        "3. Написать архитектуру сети, которая предсказывает стоимость недвижимости. Сеть должна включать BatchNorm слои и Dropout (или НЕ включать, но нужно обосновать)\n",
        "4. Сравните сходимость Adam, RMSProp и SGD, сделайте вывод по качеству работы модели\n",
        "\n",
        "train-test разделение нужно сделать с помощью sklearn random_state=13, test_size = 0.25"
      ],
      "metadata": {
        "id": "1ZKi7kOce9Gy"
      }
    },
    {
      "cell_type": "code",
      "execution_count": 1,
      "metadata": {
        "id": "OLObm_RBe7y2"
      },
      "outputs": [],
      "source": [
        "import numpy as np\n",
        "import pandas as pd\n",
        "\n",
        "import torch\n",
        "from torch import nn\n",
        "from torch.optim import Adam, RMSprop, SGD\n",
        "from torch.utils.data import DataLoader, Dataset\n",
        "\n",
        "from sklearn.datasets import fetch_california_housing\n",
        "from sklearn.model_selection import train_test_split\n",
        "from sklearn.preprocessing import StandardScaler"
      ]
    },
    {
      "cell_type": "code",
      "source": [
        "DEVICE = torch.device(\"cuda\" if torch.cuda.is_available() else \"cpu\")\n",
        "EPOCHES = 10\n",
        "LR = 0.01"
      ],
      "metadata": {
        "id": "zJzTVylQfM1a"
      },
      "execution_count": 2,
      "outputs": []
    },
    {
      "cell_type": "code",
      "source": [
        "class CHDataset(Dataset):\n",
        "  def __init__(self, *init_datasets):\n",
        "    assert all(init_datasets[0].size(0) == init_dataset.size(0) for init_dataset in init_datasets), \"Несоотвутствует размерность среди dataset\"\n",
        "    self._base_datasets = init_datasets\n",
        "  \n",
        "  def __len__(self):\n",
        "    return self._base_datasets[0].size(0)\n",
        "  \n",
        "  def __getitem__(self, idx):\n",
        "      return tuple(base_dataset[idx] for base_dataset in self._base_datasets)"
      ],
      "metadata": {
        "id": "kActSTTJfRVq"
      },
      "execution_count": 3,
      "outputs": []
    },
    {
      "cell_type": "code",
      "source": [
        "class CHNet(nn.Module):\n",
        "  def __init__(self) -> None:\n",
        "      super(CHNet, self).__init__()\n",
        "      self.block_1 = nn.Sequential(\n",
        "          nn.Linear(in_features=8, out_features=100, bias=True),\n",
        "          nn.Dropout(0.1),\n",
        "          nn.BatchNorm1d(100),\n",
        "          nn.ReLU())\n",
        "      self.block_2 = nn.Sequential(\n",
        "          nn.Linear(in_features=100, out_features=100, bias=True),\n",
        "          nn.Dropout(0.2),\n",
        "          nn.BatchNorm1d(100),\n",
        "          nn.ReLU())\n",
        "      self.block_3 = nn.Sequential(\n",
        "          nn.Linear(in_features=100, out_features=60, bias=True),\n",
        "          nn.Dropout(0.2),\n",
        "          nn.BatchNorm1d(60),\n",
        "          nn.ReLU())\n",
        "      self.block_4 = nn.Sequential(\n",
        "          nn.Linear(in_features=60, out_features=30),\n",
        "          nn.Dropout(0.2),\n",
        "          nn.BatchNorm1d(30),\n",
        "          nn.ReLU())\n",
        "      self.predict = nn.Sequential(\n",
        "          nn.Linear(in_features=30, out_features=1, bias=True),\n",
        "          nn.BatchNorm1d(1),\n",
        "          nn.ReLU())\n",
        "  \n",
        "  def forward(self, inp):\n",
        "    out = self.block_1(inp)\n",
        "    out = self.block_2(out)\n",
        "    out = self.block_3(out)\n",
        "    out = self.block_4(out)\n",
        "    out = self.predict(out)\n",
        "    return out[:, 0]"
      ],
      "metadata": {
        "id": "_5Ra-ppnfVYv"
      },
      "execution_count": 4,
      "outputs": []
    },
    {
      "cell_type": "code",
      "source": [
        "def train_loop(train_loader, test_loader, net, optimizer):\n",
        "  loss_fn = nn.MSELoss()\n",
        "  best_acc = {'train': None, 'test': None}\n",
        "  net.train()\n",
        "  for epoch in range(EPOCHES):\n",
        "    running_loss, running_items, running_right = 0.0, 0.0, 0.0\n",
        "    for i, (inputs, labels) in enumerate(train_loader):\n",
        "        \n",
        "        outputs = net(inputs)\n",
        "        loss = loss_fn(outputs, labels)\n",
        "\n",
        "        # обнуляем градиент\n",
        "        optimizer.zero_grad()\n",
        "        loss.backward()\n",
        "        optimizer.step()\n",
        "\n",
        "        # выводим статистику о процессе обучения\n",
        "        running_loss += loss.item()\n",
        "        running_items += len(labels)\n",
        "        \n",
        "        # выводим статистику о процессе обучения\n",
        "        if i % 150 == 0 or (i + 1) == len(train_loader):    # печатаем каждые 150 mini-batches\n",
        "            net.eval()\n",
        "\n",
        "            test_loss, test_running_total, test_loss  = 0.0, 0.0, 0.0\n",
        "            for y, (out_test, lbl_test) in enumerate(test_loader):\n",
        "                test_outputs = net(out_test)\n",
        "                test_loss += loss_fn(test_outputs, lbl_test)\n",
        "                test_running_total += len(lbl_test)\n",
        "            \n",
        "            res_loss_train = running_loss / running_items\n",
        "            res_loss_test = test_loss / test_running_total\n",
        "            \n",
        "            if best_acc['train'] is None or res_loss_train < best_acc['train']:\n",
        "              best_acc['train'] = res_loss_train\n",
        "            \n",
        "            if best_acc['test'] is None or res_loss_test < best_acc['test']:\n",
        "              best_acc['test'] = res_loss_train\n",
        "\n",
        "            print(f'Epoch [{epoch + 1}/{EPOCHES}]. ' \\\n",
        "                  f'Step [{i + 1}/{len(train_loader)}]. ' \\\n",
        "                  f'Loss: {res_loss_train:.3f}. '\\\n",
        "                  f'Test acc: {res_loss_test:.3f}.')\n",
        "            \n",
        "            running_loss, running_items = 0.0, 0.0\n",
        "            net.train()\n",
        "  print(f\"Best acc train: {best_acc['train']:.3f}. Best acc test: {best_acc['test']:.3f}\")\n",
        "  print('Training is finished!')"
      ],
      "metadata": {
        "id": "IoYfdBPyfcWQ"
      },
      "execution_count": 26,
      "outputs": []
    },
    {
      "cell_type": "code",
      "source": [
        "california_housing = fetch_california_housing()\n",
        "# Разделим на тестовые и тренеровочные данные\n",
        "X_train, X_test, y_train, y_test = train_test_split(california_housing.data, california_housing.target, test_size=0.25, random_state=13)"
      ],
      "metadata": {
        "id": "u9yhhfYFfjwd"
      },
      "execution_count": 27,
      "outputs": []
    },
    {
      "cell_type": "code",
      "source": [
        "# Нормализуем данные и подготовим их для дальнейшего использования в нашем dstaset\n",
        "scale = StandardScaler()\n",
        "X_train_s = scale.fit_transform(X_train)\n",
        "X_test_s = scale.transform(X_test)"
      ],
      "metadata": {
        "id": "MYOmWW1LfoDT"
      },
      "execution_count": 28,
      "outputs": []
    },
    {
      "cell_type": "code",
      "source": [
        "train_xt = torch.from_numpy(X_train_s.astype(np.float32)).to(DEVICE)\n",
        "train_yt = torch.from_numpy(y_train.astype(np.float32)).to(DEVICE)\n",
        "\n",
        "test_xt = torch.from_numpy(X_test_s.astype(np.float32)).to(DEVICE)\n",
        "test_yt = torch.from_numpy(y_test.astype(np.float32)).to(DEVICE)"
      ],
      "metadata": {
        "id": "dbRkP4hCfr6d"
      },
      "execution_count": 29,
      "outputs": []
    },
    {
      "cell_type": "code",
      "source": [
        "train_dataset = CHDataset(train_xt, train_yt)\n",
        "test_dataset = CHDataset(test_xt, test_yt)"
      ],
      "metadata": {
        "id": "ac9dO76RfuEd"
      },
      "execution_count": 30,
      "outputs": []
    },
    {
      "cell_type": "code",
      "source": [
        "train_loader = DataLoader(train_dataset, batch_size=64, shuffle=True, num_workers=2, drop_last=True)\n",
        "test_loader = DataLoader(test_dataset, batch_size=64, shuffle=True, num_workers=2, drop_last=True)"
      ],
      "metadata": {
        "id": "bQ4XBSBlfwf5"
      },
      "execution_count": 31,
      "outputs": []
    },
    {
      "cell_type": "markdown",
      "source": [
        "# Adam"
      ],
      "metadata": {
        "id": "6FrPKCfQf3eu"
      }
    },
    {
      "cell_type": "code",
      "source": [
        "net = CHNet().to(DEVICE)\n",
        "optimizer = Adam(net.parameters(), lr=LR)"
      ],
      "metadata": {
        "id": "IFyL3bvUfyxi"
      },
      "execution_count": 32,
      "outputs": []
    },
    {
      "cell_type": "code",
      "source": [
        "%%time\n",
        "train_loop(train_loader, test_loader, net, optimizer)"
      ],
      "metadata": {
        "colab": {
          "base_uri": "https://localhost:8080/"
        },
        "id": "jWUR_DVLf9Gc",
        "outputId": "9dd09f66-9e42-4895-c0f3-5248a9d4427b"
      },
      "execution_count": 33,
      "outputs": [
        {
          "output_type": "stream",
          "name": "stdout",
          "text": [
            "Epoch [1/10]. Step [1/241]. Loss: 0.083. Test acc: 0.079.\n",
            "Epoch [1/10]. Step [151/241]. Loss: 0.026. Test acc: 0.010.\n",
            "Epoch [1/10]. Step [241/241]. Loss: 0.010. Test acc: 0.011.\n",
            "Epoch [2/10]. Step [1/241]. Loss: 0.010. Test acc: 0.011.\n",
            "Epoch [2/10]. Step [151/241]. Loss: 0.009. Test acc: 0.012.\n",
            "Epoch [2/10]. Step [241/241]. Loss: 0.008. Test acc: 0.011.\n",
            "Epoch [3/10]. Step [1/241]. Loss: 0.009. Test acc: 0.011.\n",
            "Epoch [3/10]. Step [151/241]. Loss: 0.008. Test acc: 0.009.\n",
            "Epoch [3/10]. Step [241/241]. Loss: 0.007. Test acc: 0.010.\n",
            "Epoch [4/10]. Step [1/241]. Loss: 0.007. Test acc: 0.009.\n",
            "Epoch [4/10]. Step [151/241]. Loss: 0.007. Test acc: 0.006.\n",
            "Epoch [4/10]. Step [241/241]. Loss: 0.007. Test acc: 0.011.\n",
            "Epoch [5/10]. Step [1/241]. Loss: 0.012. Test acc: 0.011.\n",
            "Epoch [5/10]. Step [151/241]. Loss: 0.007. Test acc: 0.011.\n",
            "Epoch [5/10]. Step [241/241]. Loss: 0.007. Test acc: 0.008.\n",
            "Epoch [6/10]. Step [1/241]. Loss: 0.007. Test acc: 0.008.\n",
            "Epoch [6/10]. Step [151/241]. Loss: 0.007. Test acc: 0.006.\n",
            "Epoch [6/10]. Step [241/241]. Loss: 0.007. Test acc: 0.014.\n",
            "Epoch [7/10]. Step [1/241]. Loss: 0.012. Test acc: 0.014.\n",
            "Epoch [7/10]. Step [151/241]. Loss: 0.007. Test acc: 0.006.\n",
            "Epoch [7/10]. Step [241/241]. Loss: 0.007. Test acc: 0.008.\n",
            "Epoch [8/10]. Step [1/241]. Loss: 0.007. Test acc: 0.008.\n",
            "Epoch [8/10]. Step [151/241]. Loss: 0.007. Test acc: 0.009.\n",
            "Epoch [8/10]. Step [241/241]. Loss: 0.006. Test acc: 0.005.\n",
            "Epoch [9/10]. Step [1/241]. Loss: 0.007. Test acc: 0.005.\n",
            "Epoch [9/10]. Step [151/241]. Loss: 0.006. Test acc: 0.013.\n",
            "Epoch [9/10]. Step [241/241]. Loss: 0.006. Test acc: 0.006.\n",
            "Epoch [10/10]. Step [1/241]. Loss: 0.005. Test acc: 0.006.\n",
            "Epoch [10/10]. Step [151/241]. Loss: 0.006. Test acc: 0.010.\n",
            "Epoch [10/10]. Step [241/241]. Loss: 0.006. Test acc: 0.005.\n",
            "Best acc train: 0.005. Best acc test: 0.006\n",
            "Training is finished!\n",
            "CPU times: user 17.4 s, sys: 2.85 s, total: 20.2 s\n",
            "Wall time: 25 s\n"
          ]
        }
      ]
    },
    {
      "cell_type": "markdown",
      "source": [
        "# RMSProp"
      ],
      "metadata": {
        "id": "izB6uyPhgSqx"
      }
    },
    {
      "cell_type": "code",
      "source": [
        "net = CHNet().to(DEVICE)\n",
        "optimizer = RMSprop(net.parameters(), lr=LR)"
      ],
      "metadata": {
        "id": "ME_AOY8FgHZU"
      },
      "execution_count": 14,
      "outputs": []
    },
    {
      "cell_type": "code",
      "source": [
        "%%time\n",
        "train_loop(train_loader, test_loader, net, optimizer)"
      ],
      "metadata": {
        "colab": {
          "base_uri": "https://localhost:8080/"
        },
        "id": "FY-9plsvgWBH",
        "outputId": "9681a260-007a-4b38-e227-877b8b53fb07"
      },
      "execution_count": 15,
      "outputs": [
        {
          "output_type": "stream",
          "name": "stdout",
          "text": [
            "Epoch [1/10]. Step [1/241]. Loss: 0.082. Test acc: 0.058.\n",
            "Epoch [1/10]. Step [151/241]. Loss: 0.015. Test acc: 0.011.\n",
            "Epoch [1/10]. Step [241/241]. Loss: 0.009. Test acc: 0.011.\n",
            "Epoch [2/10]. Step [1/241]. Loss: 0.007. Test acc: 0.010.\n",
            "Epoch [2/10]. Step [151/241]. Loss: 0.008. Test acc: 0.006.\n",
            "Epoch [2/10]. Step [241/241]. Loss: 0.008. Test acc: 0.012.\n",
            "Epoch [3/10]. Step [1/241]. Loss: 0.010. Test acc: 0.013.\n",
            "Epoch [3/10]. Step [151/241]. Loss: 0.008. Test acc: 0.014.\n",
            "Epoch [3/10]. Step [241/241]. Loss: 0.007. Test acc: 0.006.\n",
            "Epoch [4/10]. Step [1/241]. Loss: 0.008. Test acc: 0.006.\n",
            "Epoch [4/10]. Step [151/241]. Loss: 0.007. Test acc: 0.006.\n",
            "Epoch [4/10]. Step [241/241]. Loss: 0.007. Test acc: 0.006.\n",
            "Epoch [5/10]. Step [1/241]. Loss: 0.007. Test acc: 0.006.\n",
            "Epoch [5/10]. Step [151/241]. Loss: 0.007. Test acc: 0.012.\n",
            "Epoch [5/10]. Step [241/241]. Loss: 0.006. Test acc: 0.009.\n",
            "Epoch [6/10]. Step [1/241]. Loss: 0.006. Test acc: 0.009.\n",
            "Epoch [6/10]. Step [151/241]. Loss: 0.006. Test acc: 0.011.\n",
            "Epoch [6/10]. Step [241/241]. Loss: 0.006. Test acc: 0.006.\n",
            "Epoch [7/10]. Step [1/241]. Loss: 0.004. Test acc: 0.006.\n",
            "Epoch [7/10]. Step [151/241]. Loss: 0.006. Test acc: 0.005.\n",
            "Epoch [7/10]. Step [241/241]. Loss: 0.006. Test acc: 0.012.\n",
            "Epoch [8/10]. Step [1/241]. Loss: 0.004. Test acc: 0.012.\n",
            "Epoch [8/10]. Step [151/241]. Loss: 0.006. Test acc: 0.012.\n",
            "Epoch [8/10]. Step [241/241]. Loss: 0.006. Test acc: 0.010.\n",
            "Epoch [9/10]. Step [1/241]. Loss: 0.005. Test acc: 0.010.\n",
            "Epoch [9/10]. Step [151/241]. Loss: 0.006. Test acc: 0.008.\n",
            "Epoch [9/10]. Step [241/241]. Loss: 0.006. Test acc: 0.007.\n",
            "Epoch [10/10]. Step [1/241]. Loss: 0.007. Test acc: 0.007.\n",
            "Epoch [10/10]. Step [151/241]. Loss: 0.005. Test acc: 0.006.\n",
            "Epoch [10/10]. Step [241/241]. Loss: 0.006. Test acc: 0.005.\n",
            "Best acc train: 0.004. Best acc test: 0.006\n",
            "Training is finished!\n",
            "CPU times: user 17.4 s, sys: 2.93 s, total: 20.3 s\n",
            "Wall time: 26.4 s\n"
          ]
        }
      ]
    },
    {
      "cell_type": "markdown",
      "source": [
        "# SGD"
      ],
      "metadata": {
        "id": "4AV5F-mTga7e"
      }
    },
    {
      "cell_type": "code",
      "source": [
        "net = CHNet().to(DEVICE)\n",
        "optimizer = SGD(net.parameters(), lr=LR)"
      ],
      "metadata": {
        "id": "JfFxD8dmgYRj"
      },
      "execution_count": 16,
      "outputs": []
    },
    {
      "cell_type": "code",
      "source": [
        "%%time\n",
        "train_loop(train_loader, test_loader, net, optimizer)"
      ],
      "metadata": {
        "colab": {
          "base_uri": "https://localhost:8080/"
        },
        "id": "dStNVUeJgftt",
        "outputId": "673f47d8-aa3c-4245-e425-39d001337e42"
      },
      "execution_count": 17,
      "outputs": [
        {
          "output_type": "stream",
          "name": "stdout",
          "text": [
            "Epoch [1/10]. Step [1/241]. Loss: 0.077. Test acc: 0.078.\n",
            "Epoch [1/10]. Step [151/241]. Loss: 0.025. Test acc: 0.010.\n",
            "Epoch [1/10]. Step [241/241]. Loss: 0.012. Test acc: 0.010.\n",
            "Epoch [2/10]. Step [1/241]. Loss: 0.008. Test acc: 0.010.\n",
            "Epoch [2/10]. Step [151/241]. Loss: 0.011. Test acc: 0.009.\n",
            "Epoch [2/10]. Step [241/241]. Loss: 0.010. Test acc: 0.009.\n",
            "Epoch [3/10]. Step [1/241]. Loss: 0.010. Test acc: 0.008.\n",
            "Epoch [3/10]. Step [151/241]. Loss: 0.009. Test acc: 0.008.\n",
            "Epoch [3/10]. Step [241/241]. Loss: 0.008. Test acc: 0.008.\n",
            "Epoch [4/10]. Step [1/241]. Loss: 0.009. Test acc: 0.008.\n",
            "Epoch [4/10]. Step [151/241]. Loss: 0.008. Test acc: 0.007.\n",
            "Epoch [4/10]. Step [241/241]. Loss: 0.008. Test acc: 0.006.\n",
            "Epoch [5/10]. Step [1/241]. Loss: 0.010. Test acc: 0.006.\n",
            "Epoch [5/10]. Step [151/241]. Loss: 0.008. Test acc: 0.007.\n",
            "Epoch [5/10]. Step [241/241]. Loss: 0.007. Test acc: 0.008.\n",
            "Epoch [6/10]. Step [1/241]. Loss: 0.006. Test acc: 0.008.\n",
            "Epoch [6/10]. Step [151/241]. Loss: 0.007. Test acc: 0.006.\n",
            "Epoch [6/10]. Step [241/241]. Loss: 0.007. Test acc: 0.008.\n",
            "Epoch [7/10]. Step [1/241]. Loss: 0.006. Test acc: 0.008.\n",
            "Epoch [7/10]. Step [151/241]. Loss: 0.007. Test acc: 0.006.\n",
            "Epoch [7/10]. Step [241/241]. Loss: 0.007. Test acc: 0.007.\n",
            "Epoch [8/10]. Step [1/241]. Loss: 0.006. Test acc: 0.007.\n",
            "Epoch [8/10]. Step [151/241]. Loss: 0.007. Test acc: 0.008.\n",
            "Epoch [8/10]. Step [241/241]. Loss: 0.007. Test acc: 0.008.\n",
            "Epoch [9/10]. Step [1/241]. Loss: 0.012. Test acc: 0.008.\n",
            "Epoch [9/10]. Step [151/241]. Loss: 0.007. Test acc: 0.007.\n",
            "Epoch [9/10]. Step [241/241]. Loss: 0.007. Test acc: 0.006.\n",
            "Epoch [10/10]. Step [1/241]. Loss: 0.008. Test acc: 0.006.\n",
            "Epoch [10/10]. Step [151/241]. Loss: 0.007. Test acc: 0.010.\n",
            "Epoch [10/10]. Step [241/241]. Loss: 0.007. Test acc: 0.006.\n",
            "Best acc train: 0.006. Best acc test: 0.007\n",
            "Training is finished!\n",
            "CPU times: user 15.7 s, sys: 2.95 s, total: 18.7 s\n",
            "Wall time: 24.5 s\n"
          ]
        }
      ]
    },
    {
      "cell_type": "markdown",
      "source": [
        "# SGD + Momentum"
      ],
      "metadata": {
        "id": "T14lK3gagnv6"
      }
    },
    {
      "cell_type": "code",
      "source": [
        "net = CHNet().to(DEVICE)\n",
        "optimizer = SGD(net.parameters(), lr=LR, momentum=0.8)"
      ],
      "metadata": {
        "id": "mE_IzdewgiOb"
      },
      "execution_count": 18,
      "outputs": []
    },
    {
      "cell_type": "code",
      "source": [
        "%%time\n",
        "train_loop(train_loader, test_loader, net, optimizer)"
      ],
      "metadata": {
        "colab": {
          "base_uri": "https://localhost:8080/"
        },
        "id": "v2P04bd3gsHK",
        "outputId": "0e38ae5d-eb53-4cd1-9f71-22be106cc231"
      },
      "execution_count": 19,
      "outputs": [
        {
          "output_type": "stream",
          "name": "stdout",
          "text": [
            "Epoch [1/10]. Step [1/241]. Loss: 0.074. Test acc: 0.088.\n",
            "Epoch [1/10]. Step [151/241]. Loss: 0.015. Test acc: 0.008.\n",
            "Epoch [1/10]. Step [241/241]. Loss: 0.008. Test acc: 0.007.\n",
            "Epoch [2/10]. Step [1/241]. Loss: 0.007. Test acc: 0.007.\n",
            "Epoch [2/10]. Step [151/241]. Loss: 0.008. Test acc: 0.007.\n",
            "Epoch [2/10]. Step [241/241]. Loss: 0.008. Test acc: 0.007.\n",
            "Epoch [3/10]. Step [1/241]. Loss: 0.009. Test acc: 0.007.\n",
            "Epoch [3/10]. Step [151/241]. Loss: 0.007. Test acc: 0.007.\n",
            "Epoch [3/10]. Step [241/241]. Loss: 0.007. Test acc: 0.006.\n",
            "Epoch [4/10]. Step [1/241]. Loss: 0.007. Test acc: 0.007.\n",
            "Epoch [4/10]. Step [151/241]. Loss: 0.007. Test acc: 0.006.\n",
            "Epoch [4/10]. Step [241/241]. Loss: 0.007. Test acc: 0.008.\n",
            "Epoch [5/10]. Step [1/241]. Loss: 0.008. Test acc: 0.008.\n",
            "Epoch [5/10]. Step [151/241]. Loss: 0.007. Test acc: 0.006.\n",
            "Epoch [5/10]. Step [241/241]. Loss: 0.006. Test acc: 0.009.\n",
            "Epoch [6/10]. Step [1/241]. Loss: 0.010. Test acc: 0.009.\n",
            "Epoch [6/10]. Step [151/241]. Loss: 0.007. Test acc: 0.007.\n",
            "Epoch [6/10]. Step [241/241]. Loss: 0.006. Test acc: 0.008.\n",
            "Epoch [7/10]. Step [1/241]. Loss: 0.009. Test acc: 0.008.\n",
            "Epoch [7/10]. Step [151/241]. Loss: 0.007. Test acc: 0.007.\n",
            "Epoch [7/10]. Step [241/241]. Loss: 0.006. Test acc: 0.006.\n",
            "Epoch [8/10]. Step [1/241]. Loss: 0.009. Test acc: 0.006.\n",
            "Epoch [8/10]. Step [151/241]. Loss: 0.006. Test acc: 0.005.\n",
            "Epoch [8/10]. Step [241/241]. Loss: 0.007. Test acc: 0.006.\n",
            "Epoch [9/10]. Step [1/241]. Loss: 0.007. Test acc: 0.006.\n",
            "Epoch [9/10]. Step [151/241]. Loss: 0.006. Test acc: 0.006.\n",
            "Epoch [9/10]. Step [241/241]. Loss: 0.007. Test acc: 0.008.\n",
            "Epoch [10/10]. Step [1/241]. Loss: 0.005. Test acc: 0.008.\n",
            "Epoch [10/10]. Step [151/241]. Loss: 0.006. Test acc: 0.007.\n",
            "Epoch [10/10]. Step [241/241]. Loss: 0.006. Test acc: 0.006.\n",
            "Best acc train: 0.005. Best acc test: 0.006\n",
            "Training is finished!\n",
            "CPU times: user 16.3 s, sys: 2.92 s, total: 19.2 s\n",
            "Wall time: 25.3 s\n"
          ]
        }
      ]
    },
    {
      "cell_type": "markdown",
      "source": [
        "Adam: Best acc train: 0.005. Best acc test: 0.006\n",
        "\n",
        "RMSProp: Best acc train: 0.004. Best acc test: 0.006\n",
        "\n",
        "SGD: Best acc train: 0.006. Best acc test: 0.007\n",
        "\n",
        "SGD + Momentum: Best acc train: 0.005. Best acc test: 0.006 "
      ],
      "metadata": {
        "id": "tDz7F1w5hNB2"
      }
    },
    {
      "cell_type": "code",
      "source": [
        ""
      ],
      "metadata": {
        "id": "ix6CfsxJguTK"
      },
      "execution_count": null,
      "outputs": []
    }
  ]
}