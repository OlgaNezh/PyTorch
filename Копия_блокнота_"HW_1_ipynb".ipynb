{
  "cells": [
    {
      "cell_type": "markdown",
      "metadata": {
        "id": "view-in-github",
        "colab_type": "text"
      },
      "source": [
        "<a href=\"https://colab.research.google.com/github/OlgaNezh/PyTorch/blob/main/%D0%9A%D0%BE%D0%BF%D0%B8%D1%8F_%D0%B1%D0%BB%D0%BE%D0%BA%D0%BD%D0%BE%D1%82%D0%B0_%22HW_1_ipynb%22.ipynb\" target=\"_parent\"><img src=\"https://colab.research.google.com/assets/colab-badge.svg\" alt=\"Open In Colab\"/></a>"
      ]
    },
    {
      "cell_type": "code",
      "execution_count": 1,
      "metadata": {
        "id": "_CNZn_3CofVO"
      },
      "outputs": [],
      "source": [
        "import torch"
      ]
    },
    {
      "cell_type": "code",
      "source": [
        "import numpy as np"
      ],
      "metadata": {
        "id": "0mVctuifS8Lk"
      },
      "execution_count": 2,
      "outputs": []
    },
    {
      "cell_type": "code",
      "execution_count": null,
      "metadata": {
        "id": "QGYTKAxeofVR"
      },
      "outputs": [],
      "source": [
        "# 1. Создайте случайный FloatTensor размера 3x4x5"
      ]
    },
    {
      "cell_type": "code",
      "source": [
        "x = torch.randn(3, 4, 5).type(torch.float32)\n",
        "print(\"x :\\n%s\\n\" % x)"
      ],
      "metadata": {
        "colab": {
          "base_uri": "https://localhost:8080/"
        },
        "id": "VEtZMj3wTBtZ",
        "outputId": "43ad646d-f8be-44df-f344-06a51ee2f615"
      },
      "execution_count": 3,
      "outputs": [
        {
          "output_type": "stream",
          "name": "stdout",
          "text": [
            "x :\n",
            "tensor([[[-0.2288,  0.2597,  1.7912,  2.5227, -0.1284],\n",
            "         [ 1.0030, -2.3438, -1.7318, -2.2063, -1.1461],\n",
            "         [ 1.1593,  1.3143, -1.5298,  1.1142,  0.7677],\n",
            "         [-0.5319, -0.2576,  1.6123, -0.4795,  2.0111]],\n",
            "\n",
            "        [[ 0.8715, -0.3775,  1.4942, -0.8914,  1.3602],\n",
            "         [ 0.5261, -0.0726, -0.8665, -0.1063, -0.0122],\n",
            "         [ 0.2461,  1.7115, -0.6016, -1.0062, -0.5455],\n",
            "         [-0.9896, -0.4684, -0.1904, -1.0930, -0.5548]],\n",
            "\n",
            "        [[-0.0214, -0.4220,  0.3018,  0.6125, -0.0145],\n",
            "         [ 1.8669,  0.9752,  0.3378, -0.5072,  0.8104],\n",
            "         [-0.3088,  0.7933,  1.7220,  0.6505, -1.0211],\n",
            "         [-0.4256, -0.3852,  0.3960, -0.4415,  0.2351]]])\n",
            "\n"
          ]
        }
      ]
    },
    {
      "cell_type": "code",
      "execution_count": null,
      "metadata": {
        "id": "7GV_q8DdofVV"
      },
      "outputs": [],
      "source": [
        "# 2. Выведите его форму (shape)"
      ]
    },
    {
      "cell_type": "code",
      "source": [
        "print(\"x форма: %s\\n\" % (x.shape,))\n"
      ],
      "metadata": {
        "colab": {
          "base_uri": "https://localhost:8080/"
        },
        "id": "7JQrV1W2TMYu",
        "outputId": "26ec97f0-9911-4d77-a373-b3020ba98f6d"
      },
      "execution_count": 5,
      "outputs": [
        {
          "output_type": "stream",
          "name": "stdout",
          "text": [
            "x форма: torch.Size([3, 4, 5])\n",
            "\n"
          ]
        }
      ]
    },
    {
      "cell_type": "code",
      "execution_count": null,
      "metadata": {
        "id": "f1OTy65FofVX"
      },
      "outputs": [],
      "source": [
        "# 3. Приведите его к форме 6х10"
      ]
    },
    {
      "cell_type": "code",
      "source": [
        "x = torch.reshape(x, [6, 10])\n",
        "x, x.shape"
      ],
      "metadata": {
        "colab": {
          "base_uri": "https://localhost:8080/"
        },
        "id": "yOVru9OATa3b",
        "outputId": "4337a23a-70b5-43be-aec1-6678502ebea9"
      },
      "execution_count": 6,
      "outputs": [
        {
          "output_type": "execute_result",
          "data": {
            "text/plain": [
              "(tensor([[-0.2288,  0.2597,  1.7912,  2.5227, -0.1284,  1.0030, -2.3438, -1.7318,\n",
              "          -2.2063, -1.1461],\n",
              "         [ 1.1593,  1.3143, -1.5298,  1.1142,  0.7677, -0.5319, -0.2576,  1.6123,\n",
              "          -0.4795,  2.0111],\n",
              "         [ 0.8715, -0.3775,  1.4942, -0.8914,  1.3602,  0.5261, -0.0726, -0.8665,\n",
              "          -0.1063, -0.0122],\n",
              "         [ 0.2461,  1.7115, -0.6016, -1.0062, -0.5455, -0.9896, -0.4684, -0.1904,\n",
              "          -1.0930, -0.5548],\n",
              "         [-0.0214, -0.4220,  0.3018,  0.6125, -0.0145,  1.8669,  0.9752,  0.3378,\n",
              "          -0.5072,  0.8104],\n",
              "         [-0.3088,  0.7933,  1.7220,  0.6505, -1.0211, -0.4256, -0.3852,  0.3960,\n",
              "          -0.4415,  0.2351]]), torch.Size([6, 10]))"
            ]
          },
          "metadata": {},
          "execution_count": 6
        }
      ]
    },
    {
      "cell_type": "code",
      "execution_count": null,
      "metadata": {
        "id": "BEVOv9_TofVe"
      },
      "outputs": [],
      "source": [
        "# 4. Создайте случайный IntTensor размера 10"
      ]
    },
    {
      "cell_type": "code",
      "source": [
        "a = torch.IntTensor(10)\n",
        "a.type(), a"
      ],
      "metadata": {
        "colab": {
          "base_uri": "https://localhost:8080/"
        },
        "id": "xFSfuAQ3TjJA",
        "outputId": "ea905b86-676e-40ae-9d85-1fd54e4ed43c"
      },
      "execution_count": 10,
      "outputs": [
        {
          "output_type": "execute_result",
          "data": {
            "text/plain": [
              "('torch.IntTensor',\n",
              " tensor([ 118436160,          0,         24,          0,         -1,   16843009,\n",
              "         1668444020, 1767059048, 1529374074,    2710833], dtype=torch.int32))"
            ]
          },
          "metadata": {},
          "execution_count": 10
        }
      ]
    },
    {
      "cell_type": "code",
      "source": [
        "# 5. Умножьте созданный FloatTensor на созданный IntTensor поэлементно"
      ],
      "metadata": {
        "id": "TAX3DUiSa07K"
      },
      "execution_count": null,
      "outputs": []
    },
    {
      "cell_type": "code",
      "source": [
        "x * a"
      ],
      "metadata": {
        "colab": {
          "base_uri": "https://localhost:8080/"
        },
        "id": "L91ikhpQUDyd",
        "outputId": "e9926019-a22f-431c-90b3-5bb8a7affb29"
      },
      "execution_count": 11,
      "outputs": [
        {
          "output_type": "execute_result",
          "data": {
            "text/plain": [
              "tensor([[-2.7103e+07,  0.0000e+00,  4.2989e+01,  0.0000e+00,  1.2843e-01,\n",
              "          1.6893e+07, -3.9105e+09, -3.0602e+09, -3.3742e+09, -3.1069e+06],\n",
              "        [ 1.3730e+08,  0.0000e+00, -3.6716e+01,  0.0000e+00, -7.6772e-01,\n",
              "         -8.9580e+06, -4.2984e+08,  2.8490e+09, -7.3331e+08,  5.4518e+06],\n",
              "        [ 1.0322e+08, -0.0000e+00,  3.5861e+01, -0.0000e+00, -1.3602e+00,\n",
              "          8.8617e+06, -1.2111e+08, -1.5312e+09, -1.6252e+08, -3.2939e+04],\n",
              "        [ 2.9144e+07,  0.0000e+00, -1.4438e+01, -0.0000e+00,  5.4547e-01,\n",
              "         -1.6668e+07, -7.8142e+08, -3.3650e+08, -1.6717e+09, -1.5040e+06],\n",
              "        [-2.5358e+06, -0.0000e+00,  7.2430e+00,  0.0000e+00,  1.4467e-02,\n",
              "          3.1444e+07,  1.6271e+09,  5.9691e+08, -7.7574e+08,  2.1968e+06],\n",
              "        [-3.6579e+07,  0.0000e+00,  4.1328e+01,  0.0000e+00,  1.0211e+00,\n",
              "         -7.1692e+06, -6.4266e+08,  6.9974e+08, -6.7517e+08,  6.3743e+05]])"
            ]
          },
          "metadata": {},
          "execution_count": 11
        }
      ]
    },
    {
      "cell_type": "code",
      "execution_count": null,
      "metadata": {
        "id": "eUxdWlQZofVi"
      },
      "outputs": [],
      "source": [
        "# 6. Умножьте тензор матрично на себя, чтобы результат был размерности 6x6\n",
        "# Подсказка: .dot может не подойти"
      ]
    },
    {
      "cell_type": "code",
      "source": [
        "x @ x.T"
      ],
      "metadata": {
        "colab": {
          "base_uri": "https://localhost:8080/"
        },
        "id": "p_Ab09GiVWQF",
        "outputId": "a1cb4bda-e4fa-47fe-d35f-56d6b9f0f06d"
      },
      "execution_count": 12,
      "outputs": [
        {
          "output_type": "execute_result",
          "data": {
            "text/plain": [
              "tensor([[ 2.5388e+01, -3.9208e+00,  2.4024e+00,  3.2471e-01,  1.1748e+00,\n",
              "          5.6277e+00],\n",
              "        [-3.9208e+00,  1.4466e+01, -3.3523e+00,  1.6633e+00,  8.0363e-01,\n",
              "         -3.6033e-01],\n",
              "        [ 2.4024e+00, -3.3523e+00,  6.8237e+00, -1.3744e+00,  6.8878e-01,\n",
              "         -4.5951e-01],\n",
              "        [ 3.2471e-01,  1.6633e+00, -1.3744e+00,  7.3991e+00, -3.7812e+00,\n",
              "          1.0267e+00],\n",
              "        [ 1.1748e+00,  8.0363e-01,  6.8878e-01, -3.7812e+00,  6.1094e+00,\n",
              "         -1.7366e-02],\n",
              "        [ 5.6277e+00, -3.6033e-01, -4.5951e-01,  1.0267e+00, -1.7366e-02,\n",
              "          5.8923e+00]])"
            ]
          },
          "metadata": {},
          "execution_count": 12
        }
      ]
    },
    {
      "cell_type": "code",
      "execution_count": null,
      "metadata": {
        "id": "u3V6CsNkofVj"
      },
      "outputs": [],
      "source": [
        "# 7. Посчитайте производную функции y = x**3 + z - 75t в точке (1, 0.5, 2)"
      ]
    },
    {
      "cell_type": "code",
      "source": [
        "from torch.autograd import Variable"
      ],
      "metadata": {
        "id": "BIde4pAzWIy3"
      },
      "execution_count": 14,
      "outputs": []
    },
    {
      "cell_type": "code",
      "source": [
        "x = Variable(torch.Tensor([1]), requires_grad = True) \n",
        "z = Variable(torch.Tensor([0.5]), requires_grad = True) \n",
        "t = Variable(torch.Tensor([2]), requires_grad = True) \n",
        "\n",
        "y = x**3 + z - 75*t\n",
        "print('Значение функции y в точке:', y.item())\n",
        "\n",
        "y.backward() \n",
        "\n",
        "print('Производная функции y по x в точке: ', x.grad.item())\n",
        "print('Производная функции y по z в точке: ', z.grad.item())\n",
        "print('Производная функции y по t в точке: ', t.grad.item()) "
      ],
      "metadata": {
        "colab": {
          "base_uri": "https://localhost:8080/"
        },
        "id": "9Zit7N42VhlN",
        "outputId": "30fe88e9-ef2a-4e4d-90cd-ddbaab422385"
      },
      "execution_count": 15,
      "outputs": [
        {
          "output_type": "stream",
          "name": "stdout",
          "text": [
            "Значение функции y в точке: -148.5\n",
            "Производная функции y по x в точке:  3.0\n",
            "Производная функции y по z в точке:  1.0\n",
            "Производная функции y по t в точке:  -75.0\n"
          ]
        }
      ]
    },
    {
      "cell_type": "code",
      "execution_count": null,
      "metadata": {
        "id": "FzH6QkyxofVm"
      },
      "outputs": [],
      "source": [
        "# 8. Создайте единичный тензор размера 5x6"
      ]
    },
    {
      "cell_type": "code",
      "source": [
        "b = torch.ones([5, 6])\n",
        "b, b.shape"
      ],
      "metadata": {
        "colab": {
          "base_uri": "https://localhost:8080/"
        },
        "id": "K1DY_7QaXBZ7",
        "outputId": "d20beb17-9fd3-4e8a-ea1f-4987539b2941"
      },
      "execution_count": 16,
      "outputs": [
        {
          "output_type": "execute_result",
          "data": {
            "text/plain": [
              "(tensor([[1., 1., 1., 1., 1., 1.],\n",
              "         [1., 1., 1., 1., 1., 1.],\n",
              "         [1., 1., 1., 1., 1., 1.],\n",
              "         [1., 1., 1., 1., 1., 1.],\n",
              "         [1., 1., 1., 1., 1., 1.]]), torch.Size([5, 6]))"
            ]
          },
          "metadata": {},
          "execution_count": 16
        }
      ]
    },
    {
      "cell_type": "code",
      "execution_count": null,
      "metadata": {
        "id": "z49ttvWPofVo"
      },
      "outputs": [],
      "source": [
        "# 9. Переведите его в формат numpy"
      ]
    },
    {
      "cell_type": "code",
      "source": [
        "b = b.numpy()\n",
        "b"
      ],
      "metadata": {
        "colab": {
          "base_uri": "https://localhost:8080/"
        },
        "id": "UIE1J_ZNXJ9u",
        "outputId": "dae6e18a-8ef6-453c-c621-825afc215f81"
      },
      "execution_count": 17,
      "outputs": [
        {
          "output_type": "execute_result",
          "data": {
            "text/plain": [
              "array([[1., 1., 1., 1., 1., 1.],\n",
              "       [1., 1., 1., 1., 1., 1.],\n",
              "       [1., 1., 1., 1., 1., 1.],\n",
              "       [1., 1., 1., 1., 1., 1.],\n",
              "       [1., 1., 1., 1., 1., 1.]], dtype=float32)"
            ]
          },
          "metadata": {},
          "execution_count": 17
        }
      ]
    },
    {
      "cell_type": "code",
      "source": [
        ""
      ],
      "metadata": {
        "id": "cXLn5XfyXMpw"
      },
      "execution_count": null,
      "outputs": []
    }
  ],
  "metadata": {
    "kernelspec": {
      "display_name": "Python 3",
      "language": "python",
      "name": "python3"
    },
    "language_info": {
      "codemirror_mode": {
        "name": "ipython",
        "version": 3
      },
      "file_extension": ".py",
      "mimetype": "text/x-python",
      "name": "python",
      "nbconvert_exporter": "python",
      "pygments_lexer": "ipython3",
      "version": "3.7.4"
    },
    "colab": {
      "name": "Копия блокнота \"HW_1.ipynb\"",
      "provenance": [],
      "collapsed_sections": [],
      "include_colab_link": true
    }
  },
  "nbformat": 4,
  "nbformat_minor": 0
}