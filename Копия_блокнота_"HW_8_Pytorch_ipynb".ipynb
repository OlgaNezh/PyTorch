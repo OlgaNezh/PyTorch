{
  "nbformat": 4,
  "nbformat_minor": 0,
  "metadata": {
    "colab": {
      "name": "Копия блокнота \"HW_8_Pytorch.ipynb\"",
      "provenance": [],
      "authorship_tag": "ABX9TyMLzYroUXINXotGfCt1s2G/",
      "include_colab_link": true
    },
    "kernelspec": {
      "name": "python3",
      "display_name": "Python 3"
    },
    "language_info": {
      "name": "python"
    },
    "accelerator": "GPU"
  },
  "cells": [
    {
      "cell_type": "markdown",
      "metadata": {
        "id": "view-in-github",
        "colab_type": "text"
      },
      "source": [
        "<a href=\"https://colab.research.google.com/github/OlgaNezh/PyTorch/blob/main/%D0%9A%D0%BE%D0%BF%D0%B8%D1%8F_%D0%B1%D0%BB%D0%BE%D0%BA%D0%BD%D0%BE%D1%82%D0%B0_%22HW_8_Pytorch_ipynb%22.ipynb\" target=\"_parent\"><img src=\"https://colab.research.google.com/assets/colab-badge.svg\" alt=\"Open In Colab\"/></a>"
      ]
    },
    {
      "cell_type": "markdown",
      "source": [
        "##Урок 8. Generative Adversarial Networks\n",
        "Обучить генератор создавать точки, которые будут лежать на графике функции\n",
        "y = sin(x)/x - x/10\n",
        "\n",
        "При выполнении данного задания структура GAN остается той же, но Вам нужно:\n",
        "1. Сгенерировать настоящие данные\n",
        "2. Изменить архитектуру дискриминатора и генератора\n",
        "3. Построить графики\n",
        "\n"
      ],
      "metadata": {
        "id": "-gADcyMyHQtt"
      }
    },
    {
      "cell_type": "code",
      "source": [
        "import numpy as np\n",
        "import pandas as pd\n",
        "import random\n",
        "from sklearn.preprocessing import MinMaxScaler\n",
        "\n",
        "import matplotlib.pyplot as plt\n",
        "import matplotlib.patches as mpatches\n",
        "\n",
        "import torch\n",
        "import torch.nn as nn\n",
        "from torch.utils.data import DataLoader\n",
        "from torchvision import datasets\n",
        "from IPython import display"
      ],
      "metadata": {
        "id": "nLinIsTSHT3z"
      },
      "execution_count": null,
      "outputs": []
    },
    {
      "cell_type": "code",
      "source": [
        "def func(x):\n",
        "    \n",
        "    y = (np.sin(x)/x) - (x/10)\n",
        "    return y"
      ],
      "metadata": {
        "id": "DsVkfACaHXr0"
      },
      "execution_count": null,
      "outputs": []
    },
    {
      "cell_type": "code",
      "source": [
        "# визуализация графика функции\n",
        "fig, ax = plt.subplots(figsize=(6, 6))\n",
        "\n",
        "x = np.linspace(-20, 20, 100)\n",
        "\n",
        "ax.scatter(x, y = func(x), color='red')\n",
        "\n",
        "plt.plot(x, func(x), color='blue')\n",
        "\n",
        "plt.show()"
      ],
      "metadata": {
        "colab": {
          "base_uri": "https://localhost:8080/",
          "height": 374
        },
        "id": "2VyDT2xAHbCw",
        "outputId": "7a444c88-0338-4ae5-993f-9680b225b017"
      },
      "execution_count": null,
      "outputs": [
        {
          "output_type": "display_data",
          "data": {
            "text/plain": [
              "<Figure size 432x432 with 1 Axes>"
            ],
            "image/png": "[encoded data removed]"
          },
          "metadata": {
            "needs_background": "light"
          }
        }
      ]
    },
    {
      "cell_type": "code",
      "source": [
        "#функция генерации точек, принадлежащих графику заданной функции\n",
        "def point_generator(ax, n):\n",
        "\n",
        "    points = pd.DataFrame([(x, func(x)) for x in np.random.uniform(-ax, ax, size=(1, n))[0]], columns=['x', 'y'])\n",
        "    \n",
        "    return points"
      ],
      "metadata": {
        "id": "J5MwuYt7HezP"
      },
      "execution_count": null,
      "outputs": []
    },
    {
      "cell_type": "code",
      "source": [
        "#датасет с реальными данными (чем больше точек берем, тем лучше результат модели GAN)\n",
        "df_train = point_generator(10, 500000)\n",
        "df_train"
      ],
      "metadata": {
        "colab": {
          "base_uri": "https://localhost:8080/",
          "height": 424
        },
        "id": "wNnspG5qHisf",
        "outputId": "992fa780-bf3b-40af-a023-3823190f36f2"
      },
      "execution_count": null,
      "outputs": [
        {
          "output_type": "execute_result",
          "data": {
            "text/plain": [
              "               x         y\n",
              "0      -8.832909  0.946454\n",
              "1       1.771403  0.376063\n",
              "2       7.491446 -0.624336\n",
              "3       9.508097 -0.959563\n",
              "4      -6.689365  0.728001\n",
              "...          ...       ...\n",
              "499995 -7.294874  0.845696\n",
              "499996  2.010573  0.248987\n",
              "499997 -1.085123  0.923499\n",
              "499998 -1.221403  0.891404\n",
              "499999  9.627692 -0.983701\n",
              "\n",
              "[500000 rows x 2 columns]"
            ],
            "text/html": [
              "\n",
              "  <div id=\"df-57850829-8564-48a3-ae9b-67ac0a8aa260\">\n",
              "    <div class=\"colab-df-container\">\n",
              "      <div>\n",
              "<style scoped>\n",
              "    .dataframe tbody tr th:only-of-type {\n",
              "        vertical-align: middle;\n",
              "    }\n",
              "\n",
              "    .dataframe tbody tr th {\n",
              "        vertical-align: top;\n",
              "    }\n",
              "\n",
              "    .dataframe thead th {\n",
              "        text-align: right;\n",
              "    }\n",
              "</style>\n",
              "<table border=\"1\" class=\"dataframe\">\n",
              "  <thead>\n",
              "    <tr style=\"text-align: right;\">\n",
              "      <th></th>\n",
              "      <th>x</th>\n",
              "      <th>y</th>\n",
              "    </tr>\n",
              "  </thead>\n",
              "  <tbody>\n",
              "    <tr>\n",
              "      <th>0</th>\n",
              "      <td>-8.832909</td>\n",
              "      <td>0.946454</td>\n",
              "    </tr>\n",
              "    <tr>\n",
              "      <th>1</th>\n",
              "      <td>1.771403</td>\n",
              "      <td>0.376063</td>\n",
              "    </tr>\n",
              "    <tr>\n",
              "      <th>2</th>\n",
              "      <td>7.491446</td>\n",
              "      <td>-0.624336</td>\n",
              "    </tr>\n",
              "    <tr>\n",
              "      <th>3</th>\n",
              "      <td>9.508097</td>\n",
              "      <td>-0.959563</td>\n",
              "    </tr>\n",
              "    <tr>\n",
              "      <th>4</th>\n",
              "      <td>-6.689365</td>\n",
              "      <td>0.728001</td>\n",
              "    </tr>\n",
              "    <tr>\n",
              "      <th>...</th>\n",
              "      <td>...</td>\n",
              "      <td>...</td>\n",
              "    </tr>\n",
              "    <tr>\n",
              "      <th>499995</th>\n",
              "      <td>-7.294874</td>\n",
              "      <td>0.845696</td>\n",
              "    </tr>\n",
              "    <tr>\n",
              "      <th>499996</th>\n",
              "      <td>2.010573</td>\n",
              "      <td>0.248987</td>\n",
              "    </tr>\n",
              "    <tr>\n",
              "      <th>499997</th>\n",
              "      <td>-1.085123</td>\n",
              "      <td>0.923499</td>\n",
              "    </tr>\n",
              "    <tr>\n",
              "      <th>499998</th>\n",
              "      <td>-1.221403</td>\n",
              "      <td>0.891404</td>\n",
              "    </tr>\n",
              "    <tr>\n",
              "      <th>499999</th>\n",
              "      <td>9.627692</td>\n",
              "      <td>-0.983701</td>\n",
              "    </tr>\n",
              "  </tbody>\n",
              "</table>\n",
              "<p>500000 rows × 2 columns</p>\n",
              "</div>\n",
              "      <button class=\"colab-df-convert\" onclick=\"convertToInteractive('df-57850829-8564-48a3-ae9b-67ac0a8aa260')\"\n",
              "              title=\"Convert this dataframe to an interactive table.\"\n",
              "              style=\"display:none;\">\n",
              "        \n",
              "  <svg xmlns=\"http://www.w3.org/2000/svg\" height=\"24px\"viewBox=\"0 0 24 24\"\n",
              "       width=\"24px\">\n",
              "    <path d=\"M0 0h24v24H0V0z\" fill=\"none\"/>\n",
              "    <path d=\"M18.56 5.44l.94 2.06.94-2.06 2.06-.94-2.06-.94-.94-2.06-.94 2.06-2.06.94zm-11 1L8.5 8.5l.94-2.06 2.06-.94-2.06-.94L8.5 2.5l-.94 2.06-2.06.94zm10 10l.94 2.06.94-2.06 2.06-.94-2.06-.94-.94-2.06-.94 2.06-2.06.94z\"/><path d=\"M17.41 7.96l-1.37-1.37c-.4-.4-.92-.59-1.43-.59-.52 0-1.04.2-1.43.59L10.3 9.45l-7.72 7.72c-.78.78-.78 2.05 0 2.83L4 21.41c.39.39.9.59 1.41.59.51 0 1.02-.2 1.41-.59l7.78-7.78 2.81-2.81c.8-.78.8-2.07 0-2.86zM5.41 20L4 18.59l7.72-7.72 1.47 1.35L5.41 20z\"/>\n",
              "  </svg>\n",
              "      </button>\n",
              "      \n",
              "  <style>\n",
              "    .colab-df-container {\n",
              "      display:flex;\n",
              "      flex-wrap:wrap;\n",
              "      gap: 12px;\n",
              "    }\n",
              "\n",
              "    .colab-df-convert {\n",
              "      background-color: #E8F0FE;\n",
              "      border: none;\n",
              "      border-radius: 50%;\n",
              "      cursor: pointer;\n",
              "      display: none;\n",
              "      fill: #1967D2;\n",
              "      height: 32px;\n",
              "      padding: 0 0 0 0;\n",
              "      width: 32px;\n",
              "    }\n",
              "\n",
              "    .colab-df-convert:hover {\n",
              "      background-color: #E2EBFA;\n",
              "      box-shadow: 0px 1px 2px rgba(60, 64, 67, 0.3), 0px 1px 3px 1px rgba(60, 64, 67, 0.15);\n",
              "      fill: #174EA6;\n",
              "    }\n",
              "\n",
              "    [theme=dark] .colab-df-convert {\n",
              "      background-color: #3B4455;\n",
              "      fill: #D2E3FC;\n",
              "    }\n",
              "\n",
              "    [theme=dark] .colab-df-convert:hover {\n",
              "      background-color: #434B5C;\n",
              "      box-shadow: 0px 1px 3px 1px rgba(0, 0, 0, 0.15);\n",
              "      filter: drop-shadow(0px 1px 2px rgba(0, 0, 0, 0.3));\n",
              "      fill: #FFFFFF;\n",
              "    }\n",
              "  </style>\n",
              "\n",
              "      <script>\n",
              "        const buttonEl =\n",
              "          document.querySelector('#df-57850829-8564-48a3-ae9b-67ac0a8aa260 button.colab-df-convert');\n",
              "        buttonEl.style.display =\n",
              "          google.colab.kernel.accessAllowed ? 'block' : 'none';\n",
              "\n",
              "        async function convertToInteractive(key) {\n",
              "          const element = document.querySelector('#df-57850829-8564-48a3-ae9b-67ac0a8aa260');\n",
              "          const dataTable =\n",
              "            await google.colab.kernel.invokeFunction('convertToInteractive',\n",
              "                                                     [key], {});\n",
              "          if (!dataTable) return;\n",
              "\n",
              "          const docLinkHtml = 'Like what you see? Visit the ' +\n",
              "            '<a target=\"_blank\" href=https://colab.research.google.com/notebooks/data_table.ipynb>data table notebook</a>'\n",
              "            + ' to learn more about interactive tables.';\n",
              "          element.innerHTML = '';\n",
              "          dataTable['output_type'] = 'display_data';\n",
              "          await google.colab.output.renderOutput(dataTable, element);\n",
              "          const docLink = document.createElement('div');\n",
              "          docLink.innerHTML = docLinkHtml;\n",
              "          element.appendChild(docLink);\n",
              "        }\n",
              "      </script>\n",
              "    </div>\n",
              "  </div>\n",
              "  "
            ]
          },
          "metadata": {},
          "execution_count": 5
        }
      ]
    },
    {
      "cell_type": "code",
      "source": [
        "#отрисовка реальных данных\n",
        "x,y = df_train.values.T\n",
        "plt.scatter(x,y,label='real_points')\n",
        "plt.legend()\n",
        "plt.show()"
      ],
      "metadata": {
        "colab": {
          "base_uri": "https://localhost:8080/",
          "height": 265
        },
        "id": "7zbqUOGaHpzB",
        "outputId": "0de7cd81-cdf9-4c79-f8c3-983c23327349"
      },
      "execution_count": null,
      "outputs": [
        {
          "output_type": "display_data",
          "data": {
            "text/plain": [
              "<Figure size 432x288 with 1 Axes>"
            ],
            "image/png": "[encoded data removed]"
          },
          "metadata": {
            "needs_background": "light"
          }
        }
      ]
    },
    {
      "cell_type": "code",
      "source": [
        "scaler = MinMaxScaler()\n",
        "data_train = scaler.fit_transform(df_train)  \n",
        "data_train = torch.FloatTensor(data_train).float()\n",
        "data_train"
      ],
      "metadata": {
        "colab": {
          "base_uri": "https://localhost:8080/"
        },
        "id": "JAtGfx3hHs7Z",
        "outputId": "722adf49-ec4b-41a8-f9b2-322c1350d0ca"
      },
      "execution_count": null,
      "outputs": [
        {
          "output_type": "execute_result",
          "data": {
            "text/plain": [
              "tensor([[0.0584, 0.9668],\n",
              "        [0.5886, 0.6912],\n",
              "        [0.8746, 0.2078],\n",
              "        ...,\n",
              "        [0.4457, 0.9558],\n",
              "        [0.4389, 0.9402],\n",
              "        [0.9814, 0.0342]])"
            ]
          },
          "metadata": {},
          "execution_count": 7
        }
      ]
    },
    {
      "cell_type": "code",
      "source": [
        "# класс датасета\n",
        "class MyOwnClass(torch.utils.data.Dataset):\n",
        "   \n",
        "    def __init__(self, data):\n",
        "        self._data = data\n",
        "\n",
        "    def __len__(self):\n",
        "        return len(self._data)\n",
        "\n",
        "    def __getitem__(self, idx):\n",
        "        point = self._data[idx] \n",
        "       \n",
        "        return point"
      ],
      "metadata": {
        "id": "MHXxxfhWHwGx"
      },
      "execution_count": null,
      "outputs": []
    },
    {
      "cell_type": "code",
      "source": [
        "# создание представителя датасета и его даталоадер\n",
        "train_dataset = MyOwnClass(data_train)\n",
        "\n",
        "train_loader = torch.utils.data.DataLoader(train_dataset,\n",
        "                          batch_size=128,\n",
        "                          shuffle=True,\n",
        "                          drop_last=True,\n",
        "                          num_workers=0)"
      ],
      "metadata": {
        "id": "HNJIrOR0H0kR"
      },
      "execution_count": null,
      "outputs": []
    },
    {
      "cell_type": "code",
      "source": [
        "# элементы тренировочного даталоадера\n",
        "for idx, batch in enumerate(train_loader):\n",
        "    print(batch.shape) # 128 батчей с 2 признаками\n",
        "    break"
      ],
      "metadata": {
        "colab": {
          "base_uri": "https://localhost:8080/"
        },
        "id": "7RA0nQN-pQbt",
        "outputId": "729b1e1b-b087-40db-c8a4-b8b565b41a80"
      },
      "execution_count": null,
      "outputs": [
        {
          "output_type": "stream",
          "name": "stdout",
          "text": [
            "torch.Size([128, 2])\n"
          ]
        }
      ]
    },
    {
      "cell_type": "code",
      "source": [
        "# Функция для построения графиков\n",
        "def plot_points(gen_points, real_points):\n",
        "    fig, ax = plt.subplots(figsize=(6, 6))\n",
        "\n",
        "    a,b = (real_points.detach()).T\n",
        "    plt.scatter(a,b, color='green',label='real_points') \n",
        "    \n",
        "    x, y = (gen_points.detach()).T\n",
        "    plt.scatter(x,y, color='red', label='generated_points') \n",
        "\n",
        "    plt.legend()\n",
        "    plt.show()"
      ],
      "metadata": {
        "id": "uUIxbZhJpTsB"
      },
      "execution_count": null,
      "outputs": []
    },
    {
      "cell_type": "code",
      "source": [
        "class Generator(nn.Module):\n",
        "    def __init__(self):\n",
        "        super().__init__()\n",
        "        \n",
        "        self.activations = nn.ModuleDict([\n",
        "            ['lrelu', nn.LeakyReLU(0.2, inplace=True)],\n",
        "            ['relu', nn.ReLU()]\n",
        "        ])\n",
        "        \n",
        "        def block(in_feat, out_feat, normalize=True, activation='relu'):\n",
        "            layers = [nn.Linear(in_feat, out_feat)]  \n",
        "            if normalize:\n",
        "                layers.append(nn.BatchNorm1d(out_feat))\n",
        "            layers.append(self.activations[activation])  \n",
        "            return layers\n",
        "\n",
        "        self.model = nn.Sequential(\n",
        "            *block(latent_dim, 128, normalize=False),  \n",
        "            *block(128, 256, activation='lrelu'),\n",
        "            *block(256, 512),\n",
        "            *block(512, 1024),\n",
        "             nn.Linear(1024, 2),\n",
        "             nn.Linear(2, 2),\n",
        "             nn.Tanh()\n",
        "        )\n",
        "        \n",
        "    def forward(self, z):\n",
        "        new_point = self.model(z)\n",
        "        new_point = new_point.reshape(-1, 2)\n",
        "        return new_point "
      ],
      "metadata": {
        "id": "uTUW6yKBpa_K"
      },
      "execution_count": null,
      "outputs": []
    },
    {
      "cell_type": "code",
      "source": [
        "class CustomLinearLayer(nn.Module):\n",
        "    def __init__(self, size_in, size_out):\n",
        "        super().__init__()\n",
        "        self.size_in, self.size_out = size_in, size_out\n",
        "        \n",
        "        weights = torch.Tensor(size_out, size_in)\n",
        "        self.weights = nn.Parameter(weights) \n",
        "\n",
        "        bias = torch.Tensor(size_out)\n",
        "        self.bias = nn.Parameter(bias)\n",
        "\n",
        "        nn.init.uniform_(self.weights, -0.005, 0.005) \n",
        "        nn.init.uniform_(self.bias, -0.005, 0.005)  \n",
        "\n",
        "    def forward(self, x):\n",
        "        w_times_x = torch.mm(x, self.weights.t())\n",
        "        return torch.add(w_times_x, self.bias)  \n"
      ],
      "metadata": {
        "id": "ZgjKRIGXpnMT"
      },
      "execution_count": null,
      "outputs": []
    },
    {
      "cell_type": "code",
      "source": [
        "class Discriminator(nn.Module):\n",
        "    def __init__(self):\n",
        "        super().__init__()\n",
        "\n",
        "        self.model = nn.Sequential(\n",
        "            CustomLinearLayer(2, 512),\n",
        "            nn.LeakyReLU(0.2, inplace=True),\n",
        "            CustomLinearLayer(512, 256),\n",
        "            nn.LeakyReLU(0.2, inplace=True),\n",
        "            CustomLinearLayer(256, 1),\n",
        "            nn.Sigmoid()\n",
        "        )\n",
        "  \n",
        "\n",
        "    def forward(self, img):\n",
        "        img_flat = img\n",
        "        validity = self.model(img_flat)\n",
        "        return validity"
      ],
      "metadata": {
        "id": "4yzL6E_2pvhc"
      },
      "execution_count": null,
      "outputs": []
    },
    {
      "cell_type": "code",
      "source": [
        "n_epochs = 20  # количество эпох\n",
        "lr = 0.0002  # шаг обучения\n",
        "\n",
        "b1 = 0.5  # гиперпараметр для оптимайзера Adam\n",
        "b2 = 0.999  # гиперпараметр для оптимайзера Adam\n",
        "\n",
        "latent_dim = 100  # Размерность случайного вектора, который подается на вход генератору\n",
        "\n",
        "sample_interval = 500  # количество итераций для отображения процесса обучения\n",
        "\n",
        "batch_size = 128"
      ],
      "metadata": {
        "id": "fiW4KSgGpzpc"
      },
      "execution_count": null,
      "outputs": []
    },
    {
      "cell_type": "code",
      "source": [
        "generator = Generator()\n",
        "discriminator = Discriminator()\n",
        "\n",
        "# опитимизатор для каждой сети\n",
        "optimizer_G = torch.optim.Adam(\n",
        "    generator.parameters(),\n",
        "    lr=lr, \n",
        "    betas=(b1, b2)\n",
        ")\n",
        "optimizer_D = torch.optim.Adam(\n",
        "    discriminator.parameters(), \n",
        "    lr=lr, \n",
        "    betas=(b1, b2)\n",
        ")\n",
        "\n",
        "# функция ошибки\n",
        "adversarial_loss = torch.nn.BCELoss()"
      ],
      "metadata": {
        "id": "-mA0-Np8p2mS"
      },
      "execution_count": null,
      "outputs": []
    },
    {
      "cell_type": "code",
      "source": [
        "d_loss_history = []\n",
        "g_loss_history = []"
      ],
      "metadata": {
        "id": "q_sCN2k4p50u"
      },
      "execution_count": null,
      "outputs": []
    },
    {
      "cell_type": "code",
      "source": [
        "red_patch = mpatches.Patch(color='red', label='D loss')\n",
        "green_patch = mpatches.Patch(color='green', label='G loss')\n",
        "\n",
        "\n",
        "for epoch in range(n_epochs):\n",
        "    for i, points in enumerate(train_loader):\n",
        "        \n",
        "##################### Лейблы для данных: 1 - настоящие, 0 - сгенерированные ########\n",
        "        valid = torch.FloatTensor(batch_size, 1).fill_(1.0) #(B,1) -- столбец-лейблов 1\n",
        "        fake = torch.FloatTensor(batch_size, 1).fill_(0.0)  #(B,1)  -- столбец-лейблов 0\n",
        "\n",
        "        real_points = points.type(torch.FloatTensor) #(B,2) -- реальные данные\n",
        "\n",
        "        # Генерация шума (B,latent_dim)\n",
        "        z = torch.FloatTensor(np.random.normal(0, 1, (batch_size, latent_dim)))\n",
        "        # Генерируем данные Генератором на основе шума\n",
        "        gen_points = generator(z)   #(B,2) -- сгенерированные данные\n",
        "        \n",
        "######################  Тренировка дискриминатора    ##########################\n",
        "        \n",
        "        # Получаем предсказания дискриминатора на основе реальных данных\n",
        "        real_pred = discriminator(real_points)  #(B,1)\n",
        "        \n",
        "        # Тут сравниваем предсказанные значения Дискриминатора(на основе настоящих данных) с настоящими\n",
        "        d_real_loss = adversarial_loss(real_pred, valid)\n",
        "        \n",
        "        # Подаем сгенерированые данные на Дискриминатор \n",
        "        fake_pred = discriminator(gen_points) #(B,1)\n",
        "        \n",
        "        # расчитываем ошибку предсказанного с фейковыми лейблами\n",
        "        d_fake_loss = adversarial_loss(fake_pred, fake)\n",
        "        \n",
        "        # И усредняем два лосса в один\n",
        "        d_loss = (d_real_loss + d_fake_loss) / 2\n",
        "\n",
        "        optimizer_D.zero_grad()\n",
        "        d_loss.backward()\n",
        "        optimizer_D.step()\n",
        "\n",
        "######################  Тренировка генератора    ##########################\n",
        "        \n",
        "        # генерация шума\n",
        "        z = torch.FloatTensor(np.random.normal(0, 1, (batch_size, latent_dim))) #(B,latent_dim)\n",
        "        \n",
        "        # Генерируем данные Генератором на основе шума\n",
        "        gen_points = generator(z)  #(B,2)\n",
        "\n",
        "        # Подаем сгенерированые данные на Дискриминатор \n",
        "        fake_pred = discriminator(gen_points)  #(B,1)\n",
        "    \n",
        "        # Тут сравниваем предсказанные значения Дискриминатора (на основе сгенерировнных данных) с настоящими\n",
        "        g_loss = adversarial_loss(fake_pred, valid)\n",
        "        \n",
        "        # Делаем шаг обучения нашего Генератора\n",
        "        optimizer_G.zero_grad()\n",
        "        g_loss.backward()\n",
        "        optimizer_G.step()\n",
        "\n",
        "        \n",
        "######## Отображение процесса обучения и вывод функций потерь ############\n",
        "        batches_done = epoch * len(train_loader) + i\n",
        "    \n",
        "        if batches_done % sample_interval == 0:\n",
        "            with torch.no_grad():\n",
        "                plt.clf()\n",
        "                display.clear_output(wait=False)\n",
        "                plot_points(gen_points, real_points)\n",
        "                \n",
        "                print(f\"[Epoch {epoch}/{n_epochs}] [Batch {i}/{len(train_loader)}]\", end='|')\n",
        "                print(f'[D loss: {d_loss.item()}] [G loss: {g_loss.item()}]') \n",
        "\n",
        "\n",
        "                d_loss = d_loss.detach()  #новый тензор без градиента\n",
        "                g_loss = g_loss.detach()\n",
        "\n",
        "                d_loss_history.append(d_loss)\n",
        "                g_loss_history.append(g_loss)\n",
        "\n",
        "                plt.plot(np.array(d_loss_history), label='D loss')\n",
        "                plt.plot(np.array(g_loss_history), label='G loss')\n",
        "                plt.legend()\n",
        "                plt.show()        \n"
      ],
      "metadata": {
        "colab": {
          "base_uri": "https://localhost:8080/",
          "height": 657
        },
        "id": "omZ5kW9fp9FO",
        "outputId": "75d5f605-4842-4c4a-9d39-07d0510e497c"
      },
      "execution_count": null,
      "outputs": [
        {
          "output_type": "display_data",
          "data": {
            "text/plain": [
              "<Figure size 432x288 with 0 Axes>"
            ]
          },
          "metadata": {}
        },
        {
          "output_type": "display_data",
          "data": {
            "text/plain": [
              "<Figure size 432x432 with 1 Axes>"
            ],
            "image/png": "[encoded data removed]"
          },
          "metadata": {
            "needs_background": "light"
          }
        },
        {
          "output_type": "stream",
          "name": "stdout",
          "text": [
            "[Epoch 19/20] [Batch 3786/3906]|[D loss: 0.6929342746734619] [G loss: 0.6913881897926331]\n"
          ]
        },
        {
          "output_type": "display_data",
          "data": {
            "text/plain": [
              "<Figure size 432x288 with 1 Axes>"
            ],
            "image/png": "[encoded data removed]"
          },
          "metadata": {
            "needs_background": "light"
          }
        }
      ]
    }
  ]
}